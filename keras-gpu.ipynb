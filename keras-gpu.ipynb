{
 "cells": [
  {
   "cell_type": "code",
   "execution_count": null,
   "metadata": {},
   "outputs": [],
   "source": [
    "#https://gist.github.com/csaftoiu/9fccaf47fd8f96cd378afd8fdd0d63c1"
   ]
  },
  {
   "cell_type": "code",
   "execution_count": 1,
   "metadata": {},
   "outputs": [
    {
     "name": "stderr",
     "output_type": "stream",
     "text": [
      "Using TensorFlow backend.\n",
      "D:\\ANACONDA\\envs\\keras-gpu\\lib\\site-packages\\tensorflow\\python\\framework\\dtypes.py:523: FutureWarning: Passing (type, 1) or '1type' as a synonym of type is deprecated; in a future version of numpy, it will be understood as (type, (1,)) / '(1,)type'.\n",
      "  _np_qint8 = np.dtype([(\"qint8\", np.int8, 1)])\n",
      "D:\\ANACONDA\\envs\\keras-gpu\\lib\\site-packages\\tensorflow\\python\\framework\\dtypes.py:524: FutureWarning: Passing (type, 1) or '1type' as a synonym of type is deprecated; in a future version of numpy, it will be understood as (type, (1,)) / '(1,)type'.\n",
      "  _np_quint8 = np.dtype([(\"quint8\", np.uint8, 1)])\n",
      "D:\\ANACONDA\\envs\\keras-gpu\\lib\\site-packages\\tensorflow\\python\\framework\\dtypes.py:525: FutureWarning: Passing (type, 1) or '1type' as a synonym of type is deprecated; in a future version of numpy, it will be understood as (type, (1,)) / '(1,)type'.\n",
      "  _np_qint16 = np.dtype([(\"qint16\", np.int16, 1)])\n",
      "D:\\ANACONDA\\envs\\keras-gpu\\lib\\site-packages\\tensorflow\\python\\framework\\dtypes.py:526: FutureWarning: Passing (type, 1) or '1type' as a synonym of type is deprecated; in a future version of numpy, it will be understood as (type, (1,)) / '(1,)type'.\n",
      "  _np_quint16 = np.dtype([(\"quint16\", np.uint16, 1)])\n",
      "D:\\ANACONDA\\envs\\keras-gpu\\lib\\site-packages\\tensorflow\\python\\framework\\dtypes.py:527: FutureWarning: Passing (type, 1) or '1type' as a synonym of type is deprecated; in a future version of numpy, it will be understood as (type, (1,)) / '(1,)type'.\n",
      "  _np_qint32 = np.dtype([(\"qint32\", np.int32, 1)])\n",
      "D:\\ANACONDA\\envs\\keras-gpu\\lib\\site-packages\\tensorflow\\python\\framework\\dtypes.py:532: FutureWarning: Passing (type, 1) or '1type' as a synonym of type is deprecated; in a future version of numpy, it will be understood as (type, (1,)) / '(1,)type'.\n",
      "  np_resource = np.dtype([(\"resource\", np.ubyte, 1)])\n"
     ]
    }
   ],
   "source": [
    "from __future__ import print_function\n",
    "import keras\n",
    "from keras.datasets import cifar10\n",
    "from keras.preprocessing.image import ImageDataGenerator\n",
    "from keras.models import Sequential\n",
    "from keras.layers import Dense, Dropout, Activation, Flatten\n",
    "from keras.layers import Conv2D, MaxPooling2D\n",
    "import os\n"
   ]
  },
  {
   "cell_type": "code",
   "execution_count": null,
   "metadata": {},
   "outputs": [],
   "source": []
  },
  {
   "cell_type": "code",
   "execution_count": null,
   "metadata": {},
   "outputs": [],
   "source": []
  },
  {
   "cell_type": "code",
   "execution_count": 2,
   "metadata": {},
   "outputs": [
    {
     "name": "stdout",
     "output_type": "stream",
     "text": [
      "x_train shape: (50000, 32, 32, 3)\n",
      "50000 train samples\n",
      "10000 test samples\n"
     ]
    }
   ],
   "source": [
    "batch_size = 32\n",
    "num_classes = 10\n",
    "epochs = 100\n",
    "data_augmentation = True\n",
    "num_predictions = 20\n",
    "save_dir = os.path.join(os.getcwd(), 'saved_models_2')\n",
    "model_name = 'keras_cifar10_trained_model.h5'\n",
    "\n",
    "# The data, split between train and test sets:\n",
    "(x_train, y_train), (x_test, y_test) = cifar10.load_data()\n",
    "print('x_train shape:', x_train.shape)\n",
    "print(x_train.shape[0], 'train samples')\n",
    "print(x_test.shape[0], 'test samples')\n",
    "\n",
    "# Convert class vectors to binary class matrices.\n",
    "y_train = keras.utils.to_categorical(y_train, num_classes)\n",
    "y_test = keras.utils.to_categorical(y_test, num_classes)\n"
   ]
  },
  {
   "cell_type": "code",
   "execution_count": null,
   "metadata": {},
   "outputs": [],
   "source": []
  },
  {
   "cell_type": "code",
   "execution_count": null,
   "metadata": {},
   "outputs": [],
   "source": []
  },
  {
   "cell_type": "code",
   "execution_count": null,
   "metadata": {},
   "outputs": [],
   "source": []
  },
  {
   "cell_type": "code",
   "execution_count": 3,
   "metadata": {},
   "outputs": [],
   "source": [
    "\n",
    "model = Sequential()\n",
    "model.add(Conv2D(32, (3, 3), padding='same',\n",
    "                 input_shape=x_train.shape[1:]))\n",
    "model.add(Activation('relu'))\n",
    "model.add(Conv2D(32, (3, 3)))\n",
    "model.add(Activation('relu'))\n",
    "model.add(MaxPooling2D(pool_size=(2, 2)))\n",
    "model.add(Dropout(0.25))\n",
    "\n",
    "model.add(Conv2D(64, (3, 3), padding='same'))\n",
    "model.add(Activation('relu'))\n",
    "model.add(Conv2D(64, (3, 3)))\n",
    "model.add(Activation('relu'))\n",
    "model.add(MaxPooling2D(pool_size=(2, 2)))\n",
    "model.add(Dropout(0.25))\n",
    "\n",
    "model.add(Flatten())\n",
    "model.add(Dense(512))\n",
    "model.add(Activation('relu'))\n",
    "model.add(Dropout(0.5))\n",
    "model.add(Dense(num_classes))\n",
    "model.add(Activation('softmax'))\n",
    "# initiate RMSprop optimizer\n",
    "opt = keras.optimizers.RMSprop(lr=0.0001, decay=1e-6)  # 2.2.0 to 2.3.1  --> lr changed to learning_rate\n",
    "                                                                            #I am using the old version here"
   ]
  },
  {
   "cell_type": "code",
   "execution_count": null,
   "metadata": {},
   "outputs": [],
   "source": []
  },
  {
   "cell_type": "code",
   "execution_count": null,
   "metadata": {},
   "outputs": [],
   "source": []
  },
  {
   "cell_type": "code",
   "execution_count": null,
   "metadata": {},
   "outputs": [],
   "source": []
  },
  {
   "cell_type": "code",
   "execution_count": null,
   "metadata": {},
   "outputs": [
    {
     "name": "stdout",
     "output_type": "stream",
     "text": [
      "Using real-time data augmentation.\n",
      "Epoch 1/100\n",
      "1563/1563 [==============================] - 18s 12ms/step - loss: 1.8810 - acc: 0.3084 - val_loss: 1.5643 - val_acc: 0.4340\n",
      "Epoch 2/100\n",
      "1563/1563 [==============================] - 16s 10ms/step - loss: 1.5963 - acc: 0.4175 - val_loss: 1.4028 - val_acc: 0.4893\n",
      "Epoch 3/100\n",
      "1563/1563 [==============================] - 16s 10ms/step - loss: 1.4779 - acc: 0.4640 - val_loss: 1.3414 - val_acc: 0.5209\n",
      "Epoch 4/100\n",
      "1563/1563 [==============================] - 16s 10ms/step - loss: 1.3913 - acc: 0.4979 - val_loss: 1.3049 - val_acc: 0.5318\n",
      "Epoch 5/100\n",
      "1563/1563 [==============================] - 16s 10ms/step - loss: 1.3280 - acc: 0.5261 - val_loss: 1.2253 - val_acc: 0.5581\n",
      "Epoch 6/100\n",
      "1563/1563 [==============================] - 16s 10ms/step - loss: 1.2705 - acc: 0.5479 - val_loss: 1.1290 - val_acc: 0.5982\n",
      "Epoch 7/100\n",
      "1563/1563 [==============================] - 16s 10ms/step - loss: 1.2145 - acc: 0.5697 - val_loss: 1.0791 - val_acc: 0.6151\n",
      "Epoch 8/100\n",
      "1563/1563 [==============================] - 16s 10ms/step - loss: 1.1774 - acc: 0.5806 - val_loss: 1.1213 - val_acc: 0.6044\n",
      "Epoch 9/100\n",
      "1563/1563 [==============================] - 16s 10ms/step - loss: 1.1355 - acc: 0.5978 - val_loss: 0.9705 - val_acc: 0.6559\n",
      "Epoch 10/100\n",
      "1563/1563 [==============================] - 16s 10ms/step - loss: 1.1016 - acc: 0.6102 - val_loss: 1.0127 - val_acc: 0.6415\n",
      "Epoch 11/100\n",
      "1563/1563 [==============================] - 16s 10ms/step - loss: 1.0765 - acc: 0.6185 - val_loss: 0.9369 - val_acc: 0.6701\n",
      "Epoch 12/100\n",
      "1563/1563 [==============================] - 16s 10ms/step - loss: 1.0486 - acc: 0.6282 - val_loss: 0.9242 - val_acc: 0.6759\n",
      "Epoch 13/100\n",
      "1563/1563 [==============================] - 16s 10ms/step - loss: 1.0271 - acc: 0.6375 - val_loss: 0.9512 - val_acc: 0.6673\n",
      "Epoch 14/100\n",
      "1563/1563 [==============================] - 16s 10ms/step - loss: 1.0107 - acc: 0.6434 - val_loss: 0.8951 - val_acc: 0.6865\n",
      "Epoch 15/100\n",
      "1563/1563 [==============================] - 16s 10ms/step - loss: 0.9884 - acc: 0.6508 - val_loss: 0.9040 - val_acc: 0.6858\n",
      "Epoch 16/100\n",
      "1563/1563 [==============================] - 16s 10ms/step - loss: 0.9665 - acc: 0.6614 - val_loss: 0.8884 - val_acc: 0.6854\n",
      "Epoch 17/100\n",
      "1563/1563 [==============================] - 16s 10ms/step - loss: 0.9558 - acc: 0.6657 - val_loss: 0.8708 - val_acc: 0.6970\n",
      "Epoch 18/100\n",
      "1563/1563 [==============================] - 16s 10ms/step - loss: 0.9454 - acc: 0.6708 - val_loss: 0.8697 - val_acc: 0.7006\n",
      "Epoch 19/100\n",
      "1563/1563 [==============================] - 16s 10ms/step - loss: 0.9325 - acc: 0.6748 - val_loss: 0.8035 - val_acc: 0.7214\n",
      "Epoch 20/100\n",
      "1563/1563 [==============================] - 16s 10ms/step - loss: 0.9210 - acc: 0.6802 - val_loss: 0.7831 - val_acc: 0.7296\n",
      "Epoch 21/100\n",
      "1563/1563 [==============================] - 16s 10ms/step - loss: 0.9052 - acc: 0.6835 - val_loss: 0.7905 - val_acc: 0.7285\n",
      "Epoch 22/100\n",
      "1563/1563 [==============================] - 16s 10ms/step - loss: 0.9015 - acc: 0.6880 - val_loss: 0.7921 - val_acc: 0.7288\n",
      "Epoch 23/100\n",
      "1563/1563 [==============================] - 16s 10ms/step - loss: 0.8883 - acc: 0.6919 - val_loss: 0.8006 - val_acc: 0.7247\n",
      "Epoch 24/100\n",
      "1563/1563 [==============================] - 16s 10ms/step - loss: 0.8863 - acc: 0.6938 - val_loss: 0.8207 - val_acc: 0.7176\n",
      "Epoch 25/100\n",
      "1563/1563 [==============================] - 16s 10ms/step - loss: 0.8766 - acc: 0.6953 - val_loss: 0.8288 - val_acc: 0.7162\n",
      "Epoch 26/100\n",
      "1563/1563 [==============================] - 16s 10ms/step - loss: 0.8704 - acc: 0.6978 - val_loss: 0.8194 - val_acc: 0.7228\n",
      "Epoch 27/100\n",
      "1563/1563 [==============================] - 16s 10ms/step - loss: 0.8640 - acc: 0.7019 - val_loss: 0.8218 - val_acc: 0.7187\n",
      "Epoch 28/100\n",
      "1563/1563 [==============================] - 16s 10ms/step - loss: 0.8620 - acc: 0.7015 - val_loss: 0.7879 - val_acc: 0.7397\n",
      "Epoch 29/100\n",
      "1563/1563 [==============================] - 16s 10ms/step - loss: 0.8544 - acc: 0.7043 - val_loss: 0.7755 - val_acc: 0.7349\n",
      "Epoch 30/100\n",
      "1563/1563 [==============================] - 16s 10ms/step - loss: 0.8495 - acc: 0.7089 - val_loss: 0.7549 - val_acc: 0.7430\n",
      "Epoch 31/100\n",
      "1563/1563 [==============================] - 16s 10ms/step - loss: 0.8448 - acc: 0.7086 - val_loss: 0.7615 - val_acc: 0.7459\n",
      "Epoch 32/100\n",
      "1563/1563 [==============================] - 16s 10ms/step - loss: 0.8453 - acc: 0.7104 - val_loss: 0.7969 - val_acc: 0.7330\n",
      "Epoch 33/100\n",
      "1563/1563 [==============================] - 17s 11ms/step - loss: 0.8420 - acc: 0.7130 - val_loss: 0.7895 - val_acc: 0.7344\n",
      "Epoch 34/100\n",
      "1563/1563 [==============================] - 16s 10ms/step - loss: 0.8315 - acc: 0.7150 - val_loss: 0.7848 - val_acc: 0.7318\n",
      "Epoch 35/100\n",
      "1563/1563 [==============================] - 16s 10ms/step - loss: 0.8284 - acc: 0.7139 - val_loss: 0.7441 - val_acc: 0.7499\n",
      "Epoch 36/100\n",
      "1563/1563 [==============================] - 15s 10ms/step - loss: 0.8305 - acc: 0.7159 - val_loss: 0.7478 - val_acc: 0.7460\n",
      "Epoch 37/100\n",
      "1563/1563 [==============================] - 16s 10ms/step - loss: 0.8274 - acc: 0.7184 - val_loss: 0.7352 - val_acc: 0.7525- loss: 0\n",
      "Epoch 38/100\n",
      "1563/1563 [==============================] - 16s 10ms/step - loss: 0.8243 - acc: 0.7170 - val_loss: 0.7351 - val_acc: 0.7572\n",
      "Epoch 39/100\n",
      "1563/1563 [==============================] - 16s 10ms/step - loss: 0.8217 - acc: 0.7187 - val_loss: 0.7473 - val_acc: 0.7541\n",
      "Epoch 40/100\n",
      "1563/1563 [==============================] - 16s 10ms/step - loss: 0.8183 - acc: 0.7209 - val_loss: 0.7282 - val_acc: 0.7565\n",
      "Epoch 41/100\n",
      " 965/1563 [=================>............] - ETA: 5s - loss: 0.8154 - acc: 0.7209"
     ]
    }
   ],
   "source": [
    "\n",
    "# Let's train the model using RMSprop\n",
    "model.compile(loss='categorical_crossentropy',\n",
    "              optimizer=opt,\n",
    "              metrics=['accuracy'])\n",
    "\n",
    "x_train = x_train.astype('float32')\n",
    "x_test = x_test.astype('float32')\n",
    "x_train /= 255\n",
    "x_test /= 255\n",
    "\n",
    "if not data_augmentation:\n",
    "    print('Not using data augmentation.')\n",
    "    model.fit(x_train, y_train,\n",
    "              batch_size=batch_size,\n",
    "              epochs=epochs,\n",
    "              validation_data=(x_test, y_test),\n",
    "              shuffle=True)\n",
    "else:\n",
    "    print('Using real-time data augmentation.')\n",
    "    # This will do preprocessing and realtime data augmentation:\n",
    "    datagen = ImageDataGenerator(\n",
    "        featurewise_center=False,  # set input mean to 0 over the dataset\n",
    "        samplewise_center=False,  # set each sample mean to 0\n",
    "        featurewise_std_normalization=False,  # divide inputs by std of the dataset\n",
    "        samplewise_std_normalization=False,  # divide each input by its std\n",
    "        zca_whitening=False,  # apply ZCA whitening\n",
    "        zca_epsilon=1e-06,  # epsilon for ZCA whitening\n",
    "        rotation_range=0,  # randomly rotate images in the range (degrees, 0 to 180)\n",
    "        # randomly shift images horizontally (fraction of total width)\n",
    "        width_shift_range=0.1,\n",
    "        # randomly shift images vertically (fraction of total height)\n",
    "        height_shift_range=0.1,\n",
    "        shear_range=0.,  # set range for random shear\n",
    "        zoom_range=0.,  # set range for random zoom\n",
    "        channel_shift_range=0.,  # set range for random channel shifts\n",
    "        # set mode for filling points outside the input boundaries\n",
    "        fill_mode='nearest',\n",
    "        cval=0.,  # value used for fill_mode = \"constant\"\n",
    "        horizontal_flip=True,  # randomly flip images\n",
    "        vertical_flip=False,  # randomly flip images\n",
    "        # set rescaling factor (applied before any other transformation)\n",
    "        rescale=None,\n",
    "        # set function that will be applied on each input\n",
    "        preprocessing_function=None,\n",
    "        # image data format, either \"channels_first\" or \"channels_last\"\n",
    "        data_format=None,\n",
    "        # fraction of images reserved for validation (strictly between 0 and 1)\n",
    "        validation_split=0.0)\n",
    "\n",
    "    # Compute quantities required for feature-wise normalization\n",
    "    # (std, mean, and principal components if ZCA whitening is applied).\n",
    "    datagen.fit(x_train)\n",
    "\n",
    "    # Fit the model on the batches generated by datagen.flow().\n",
    "    model.fit_generator(datagen.flow(x_train, y_train,\n",
    "                                     batch_size=batch_size),\n",
    "                        epochs=epochs,\n",
    "                        validation_data=(x_test, y_test),\n",
    "                        workers=4)\n"
   ]
  },
  {
   "cell_type": "code",
   "execution_count": null,
   "metadata": {},
   "outputs": [],
   "source": []
  },
  {
   "cell_type": "code",
   "execution_count": 21,
   "metadata": {},
   "outputs": [
    {
     "name": "stdout",
     "output_type": "stream",
     "text": [
      "Saved trained model at C:\\Users\\Frederico\\Desktop\\rodando\\saved_models\\keras_cifar10_trained_model.h5 \n"
     ]
    }
   ],
   "source": [
    "# Save model and weights\n",
    "if not os.path.isdir(save_dir):\n",
    "    os.makedirs(save_dir)\n",
    "\n",
    "model_json = model.to_json()\n",
    "model_json_path = os.path.join(save_dir, model_name.split('.')[0] + '.json')\n",
    "with open(model_json_path, 'w') as json_file:\n",
    "    json_file.write(model_json)\n",
    "    \n",
    "model_path = os.path.join(save_dir, model_name)\n",
    "model.save(model_path)\n",
    "print('Saved trained model at %s ' % model_path)"
   ]
  },
  {
   "cell_type": "code",
   "execution_count": null,
   "metadata": {},
   "outputs": [],
   "source": []
  },
  {
   "cell_type": "code",
   "execution_count": null,
   "metadata": {},
   "outputs": [],
   "source": []
  },
  {
   "cell_type": "code",
   "execution_count": null,
   "metadata": {},
   "outputs": [],
   "source": []
  },
  {
   "cell_type": "code",
   "execution_count": null,
   "metadata": {},
   "outputs": [],
   "source": []
  },
  {
   "cell_type": "code",
   "execution_count": null,
   "metadata": {},
   "outputs": [],
   "source": [
    "# CARREGANDO A PARTIR DO MODELO DEFINIDO LA EM CIMA"
   ]
  },
  {
   "cell_type": "code",
   "execution_count": 16,
   "metadata": {},
   "outputs": [],
   "source": [
    "\n",
    "model_construcao.load_weights(\"saved_models/keras_cifar10_trained_model.h5\")\n",
    "model_construcao.compile(loss='categorical_crossentropy',\n",
    "              optimizer=opt,\n",
    "              metrics=['accuracy'])    "
   ]
  },
  {
   "cell_type": "code",
   "execution_count": 17,
   "metadata": {},
   "outputs": [
    {
     "name": "stdout",
     "output_type": "stream",
     "text": [
      "10000/10000 [==============================] - 1s 80us/step\n",
      "Test loss: 11.070283121490478\n",
      "Test accuracy: 0.3122\n"
     ]
    }
   ],
   "source": [
    "# Score trained model.\n",
    "scores = model_construcao.evaluate(x_test, y_test, verbose=1)\n",
    "print('Test loss:', scores[0])\n",
    "print('Test accuracy:', scores[1])"
   ]
  },
  {
   "cell_type": "code",
   "execution_count": null,
   "metadata": {},
   "outputs": [],
   "source": []
  },
  {
   "cell_type": "code",
   "execution_count": null,
   "metadata": {},
   "outputs": [],
   "source": []
  },
  {
   "cell_type": "code",
   "execution_count": null,
   "metadata": {},
   "outputs": [],
   "source": []
  },
  {
   "cell_type": "code",
   "execution_count": 3,
   "metadata": {},
   "outputs": [
    {
     "name": "stdout",
     "output_type": "stream",
     "text": [
      "Loaded model from disk\n"
     ]
    }
   ],
   "source": [
    "from keras.models import model_from_json\n",
    "# load json and create model\n",
    "json_file = open('saved_models/keras_cifar10_trained_model.json', 'r')\n",
    "loaded_model_json = json_file.read()\n",
    "json_file.close()\n",
    "loaded_model = model_from_json(loaded_model_json)\n",
    "# load weights into new model\n",
    "loaded_model.load_weights(\"saved_models/keras_cifar10_trained_model.h5\")\n",
    "print(\"Loaded model from disk\")"
   ]
  },
  {
   "cell_type": "code",
   "execution_count": 4,
   "metadata": {},
   "outputs": [],
   "source": [
    "# initiate RMSprop optimizer\n",
    "opt = keras.optimizers.RMSprop(lr=0.0001, decay=1e-6)  # 2.2.0 to 2.3.1  --> lr changed to learning_rate\n",
    "                                                                            #I am using the old version here\n",
    "# Let's train the model using RMSprop\n",
    "loaded_model.compile(loss='categorical_crossentropy',\n",
    "              optimizer=opt,\n",
    "              metrics=['accuracy'])    "
   ]
  },
  {
   "cell_type": "code",
   "execution_count": 5,
   "metadata": {},
   "outputs": [
    {
     "name": "stdout",
     "output_type": "stream",
     "text": [
      "10000/10000 [==============================] - 2s 170us/step\n",
      "Test loss: 11.070283121490478\n",
      "Test accuracy: 0.3122\n"
     ]
    }
   ],
   "source": [
    "# Score trained model. # era 0.78\n",
    "scores = loaded_model.evaluate(x_test, y_test, verbose=1)\n",
    "print('Test loss:', scores[0])\n",
    "print('Test accuracy:', scores[1])"
   ]
  },
  {
   "cell_type": "code",
   "execution_count": null,
   "metadata": {},
   "outputs": [],
   "source": []
  },
  {
   "cell_type": "code",
   "execution_count": null,
   "metadata": {},
   "outputs": [],
   "source": []
  },
  {
   "cell_type": "code",
   "execution_count": null,
   "metadata": {},
   "outputs": [],
   "source": []
  },
  {
   "cell_type": "code",
   "execution_count": null,
   "metadata": {},
   "outputs": [],
   "source": []
  }
 ],
 "metadata": {
  "kernelspec": {
   "display_name": "Python 3",
   "language": "python",
   "name": "python3"
  },
  "language_info": {
   "codemirror_mode": {
    "name": "ipython",
    "version": 3
   },
   "file_extension": ".py",
   "mimetype": "text/x-python",
   "name": "python",
   "nbconvert_exporter": "python",
   "pygments_lexer": "ipython3",
   "version": "3.6.10"
  }
 },
 "nbformat": 4,
 "nbformat_minor": 4
}
